{
 "cells": [
  {
   "cell_type": "markdown",
   "metadata": {},
   "source": [
    "SVM tutorial \n",
    "\n",
    "https://www.datacamp.com/community/tutorials/svm-classification-scikit-learn-python"
   ]
  },
  {
   "cell_type": "code",
   "execution_count": 2,
   "metadata": {},
   "outputs": [],
   "source": [
    "import pandas as pd\n",
    "import numpy as np\n",
    "import matplotlib.pyplot as mpl\n",
    "from sklearn import svm"
   ]
  },
  {
   "cell_type": "code",
   "execution_count": 19,
   "metadata": {},
   "outputs": [],
   "source": [
    "muscle1_df = pd.read_excel(r\"C:\\Users\\Thang Le\\Documents\\github\\smart_pros\\hand_jupyter_notebook\\Rescaled_EMG_time.xlsx\", sheet_name = \"muscle_1\")\n",
    "muscle2_df = pd.read_excel(r\"C:\\Users\\Thang Le\\Documents\\github\\smart_pros\\hand_jupyter_notebook\\Rescaled_EMG_time.xlsx\", sheet_name = \"muscle_2\")\n",
    "muscle3_df = pd.read_excel(r\"C:\\Users\\Thang Le\\Documents\\github\\smart_pros\\hand_jupyter_notebook\\Rescaled_EMG_time.xlsx\", sheet_name = \"muscle_3\")\n",
    "muscle4_df = pd.read_excel(r\"C:\\Users\\Thang Le\\Documents\\github\\smart_pros\\hand_jupyter_notebook\\Rescaled_EMG_time.xlsx\", sheet_name = \"muscle_4\")\n"
   ]
  },
  {
   "cell_type": "code",
   "execution_count": 20,
   "metadata": {},
   "outputs": [
    {
     "data": {
      "text/html": [
       "<div>\n",
       "<style scoped>\n",
       "    .dataframe tbody tr th:only-of-type {\n",
       "        vertical-align: middle;\n",
       "    }\n",
       "\n",
       "    .dataframe tbody tr th {\n",
       "        vertical-align: top;\n",
       "    }\n",
       "\n",
       "    .dataframe thead th {\n",
       "        text-align: right;\n",
       "    }\n",
       "</style>\n",
       "<table border=\"1\" class=\"dataframe\">\n",
       "  <thead>\n",
       "    <tr style=\"text-align: right;\">\n",
       "      <th></th>\n",
       "      <th>Time stamp</th>\n",
       "      <th>Voltage (mV)</th>\n",
       "      <th>Rescaled time (ms)</th>\n",
       "    </tr>\n",
       "  </thead>\n",
       "  <tbody>\n",
       "    <tr>\n",
       "      <td>0</td>\n",
       "      <td>15:46:28.555 -&gt; 3010</td>\n",
       "      <td>0.01</td>\n",
       "      <td>0</td>\n",
       "    </tr>\n",
       "    <tr>\n",
       "      <td>1</td>\n",
       "      <td>15:46:28.589 -&gt; 3020</td>\n",
       "      <td>0.01</td>\n",
       "      <td>10</td>\n",
       "    </tr>\n",
       "    <tr>\n",
       "      <td>2</td>\n",
       "      <td>15:46:28.589 -&gt; 3032</td>\n",
       "      <td>0.01</td>\n",
       "      <td>22</td>\n",
       "    </tr>\n",
       "    <tr>\n",
       "      <td>3</td>\n",
       "      <td>15:46:28.589 -&gt; 3042</td>\n",
       "      <td>0.01</td>\n",
       "      <td>32</td>\n",
       "    </tr>\n",
       "    <tr>\n",
       "      <td>4</td>\n",
       "      <td>15:46:28.624 -&gt; 3052</td>\n",
       "      <td>0.01</td>\n",
       "      <td>42</td>\n",
       "    </tr>\n",
       "  </tbody>\n",
       "</table>\n",
       "</div>"
      ],
      "text/plain": [
       "             Time stamp  Voltage (mV)  Rescaled time (ms)\n",
       "0  15:46:28.555 -> 3010          0.01                   0\n",
       "1  15:46:28.589 -> 3020          0.01                  10\n",
       "2  15:46:28.589 -> 3032          0.01                  22\n",
       "3  15:46:28.589 -> 3042          0.01                  32\n",
       "4  15:46:28.624 -> 3052          0.01                  42"
      ]
     },
     "execution_count": 20,
     "metadata": {},
     "output_type": "execute_result"
    }
   ],
   "source": [
    "muscle1_df.head() # checking the first 5\n",
    "muscle2_df.head()\n",
    "muscle3_df.head()\n",
    "muscle4_df.head()"
   ]
  },
  {
   "cell_type": "code",
   "execution_count": 30,
   "metadata": {},
   "outputs": [],
   "source": [
    "muscle1_df.columns = ['Time_stamp', 'Voltage', 'Rescaled_time']\n",
    "muscle2_df.columns = ['Time_stamp', 'Voltage', 'Rescaled_time']\n",
    "muscle3_df.columns = ['Time_stamp', 'Voltage', 'Rescaled_time']\n",
    "muscle4_df.columns = ['Time_stamp', 'Voltage', 'Rescaled_time']\n"
   ]
  },
  {
   "cell_type": "code",
   "execution_count": 11,
   "metadata": {},
   "outputs": [
    {
     "data": {
      "text/html": [
       "<div>\n",
       "<style scoped>\n",
       "    .dataframe tbody tr th:only-of-type {\n",
       "        vertical-align: middle;\n",
       "    }\n",
       "\n",
       "    .dataframe tbody tr th {\n",
       "        vertical-align: top;\n",
       "    }\n",
       "\n",
       "    .dataframe thead th {\n",
       "        text-align: right;\n",
       "    }\n",
       "</style>\n",
       "<table border=\"1\" class=\"dataframe\">\n",
       "  <thead>\n",
       "    <tr style=\"text-align: right;\">\n",
       "      <th></th>\n",
       "      <th>Time_stamp</th>\n",
       "      <th>Voltage</th>\n",
       "      <th>Rescaled_time</th>\n",
       "    </tr>\n",
       "  </thead>\n",
       "  <tbody>\n",
       "    <tr>\n",
       "      <td>0</td>\n",
       "      <td>15:38:13.804 -&gt; 3010</td>\n",
       "      <td>0.68</td>\n",
       "      <td>0</td>\n",
       "    </tr>\n",
       "    <tr>\n",
       "      <td>1</td>\n",
       "      <td>15:38:13.804 -&gt; 3020</td>\n",
       "      <td>0.66</td>\n",
       "      <td>10</td>\n",
       "    </tr>\n",
       "    <tr>\n",
       "      <td>2</td>\n",
       "      <td>15:38:13.804 -&gt; 3032</td>\n",
       "      <td>0.64</td>\n",
       "      <td>22</td>\n",
       "    </tr>\n",
       "    <tr>\n",
       "      <td>3</td>\n",
       "      <td>15:38:13.842 -&gt; 3042</td>\n",
       "      <td>0.64</td>\n",
       "      <td>32</td>\n",
       "    </tr>\n",
       "    <tr>\n",
       "      <td>4</td>\n",
       "      <td>15:38:13.842 -&gt; 3052</td>\n",
       "      <td>0.62</td>\n",
       "      <td>42</td>\n",
       "    </tr>\n",
       "  </tbody>\n",
       "</table>\n",
       "</div>"
      ],
      "text/plain": [
       "             Time_stamp  Voltage  Rescaled_time\n",
       "0  15:38:13.804 -> 3010     0.68              0\n",
       "1  15:38:13.804 -> 3020     0.66             10\n",
       "2  15:38:13.804 -> 3032     0.64             22\n",
       "3  15:38:13.842 -> 3042     0.64             32\n",
       "4  15:38:13.842 -> 3052     0.62             42"
      ]
     },
     "execution_count": 11,
     "metadata": {},
     "output_type": "execute_result"
    }
   ],
   "source": [
    "muscle1_df.head()"
   ]
  },
  {
   "cell_type": "code",
   "execution_count": 12,
   "metadata": {},
   "outputs": [
    {
     "data": {
      "text/html": [
       "<div>\n",
       "<style scoped>\n",
       "    .dataframe tbody tr th:only-of-type {\n",
       "        vertical-align: middle;\n",
       "    }\n",
       "\n",
       "    .dataframe tbody tr th {\n",
       "        vertical-align: top;\n",
       "    }\n",
       "\n",
       "    .dataframe thead th {\n",
       "        text-align: right;\n",
       "    }\n",
       "</style>\n",
       "<table border=\"1\" class=\"dataframe\">\n",
       "  <thead>\n",
       "    <tr style=\"text-align: right;\">\n",
       "      <th></th>\n",
       "      <th>Voltage</th>\n",
       "      <th>Rescaled_time</th>\n",
       "    </tr>\n",
       "  </thead>\n",
       "  <tbody>\n",
       "    <tr>\n",
       "      <td>0</td>\n",
       "      <td>0.68</td>\n",
       "      <td>0</td>\n",
       "    </tr>\n",
       "    <tr>\n",
       "      <td>1</td>\n",
       "      <td>0.66</td>\n",
       "      <td>10</td>\n",
       "    </tr>\n",
       "    <tr>\n",
       "      <td>2</td>\n",
       "      <td>0.64</td>\n",
       "      <td>22</td>\n",
       "    </tr>\n",
       "    <tr>\n",
       "      <td>3</td>\n",
       "      <td>0.64</td>\n",
       "      <td>32</td>\n",
       "    </tr>\n",
       "    <tr>\n",
       "      <td>4</td>\n",
       "      <td>0.62</td>\n",
       "      <td>42</td>\n",
       "    </tr>\n",
       "    <tr>\n",
       "      <td>...</td>\n",
       "      <td>...</td>\n",
       "      <td>...</td>\n",
       "    </tr>\n",
       "    <tr>\n",
       "      <td>294</td>\n",
       "      <td>0.43</td>\n",
       "      <td>3121</td>\n",
       "    </tr>\n",
       "    <tr>\n",
       "      <td>295</td>\n",
       "      <td>0.42</td>\n",
       "      <td>3131</td>\n",
       "    </tr>\n",
       "    <tr>\n",
       "      <td>296</td>\n",
       "      <td>0.41</td>\n",
       "      <td>3143</td>\n",
       "    </tr>\n",
       "    <tr>\n",
       "      <td>297</td>\n",
       "      <td>0.39</td>\n",
       "      <td>3153</td>\n",
       "    </tr>\n",
       "    <tr>\n",
       "      <td>298</td>\n",
       "      <td>0.38</td>\n",
       "      <td>3164</td>\n",
       "    </tr>\n",
       "  </tbody>\n",
       "</table>\n",
       "<p>299 rows × 2 columns</p>\n",
       "</div>"
      ],
      "text/plain": [
       "     Voltage  Rescaled_time\n",
       "0       0.68              0\n",
       "1       0.66             10\n",
       "2       0.64             22\n",
       "3       0.64             32\n",
       "4       0.62             42\n",
       "..       ...            ...\n",
       "294     0.43           3121\n",
       "295     0.42           3131\n",
       "296     0.41           3143\n",
       "297     0.39           3153\n",
       "298     0.38           3164\n",
       "\n",
       "[299 rows x 2 columns]"
      ]
     },
     "execution_count": 12,
     "metadata": {},
     "output_type": "execute_result"
    }
   ],
   "source": [
    "muscle1_df.drop('Time_stamp',1)"
   ]
  },
  {
   "cell_type": "code",
   "execution_count": 13,
   "metadata": {},
   "outputs": [
    {
     "data": {
      "image/png": "[encoded data removed]",
      "text/plain": [
       "<Figure size 432x288 with 1 Axes>"
      ]
     },
     "metadata": {
      "needs_background": "light"
     },
     "output_type": "display_data"
    }
   ],
   "source": [
    "muscle1_df.plot(x = 'Rescaled_time', y = 'Voltage', kind='line')\n",
    "mpl.show()"
   ]
  },
  {
   "cell_type": "code",
   "execution_count": 14,
   "metadata": {},
   "outputs": [
    {
     "data": {
      "text/plain": [
       "<matplotlib.axes._subplots.AxesSubplot at 0x2973e4663c8>"
      ]
     },
     "execution_count": 14,
     "metadata": {},
     "output_type": "execute_result"
    },
    {
     "data": {
      "image/png": "[encoded data removed]",
      "text/plain": [
       "<Figure size 432x288 with 1 Axes>"
      ]
     },
     "metadata": {
      "needs_background": "light"
     },
     "output_type": "display_data"
    }
   ],
   "source": [
    " muscle1_df.plot(x='Rescaled_time', y=\"Voltage\", kind=\"scatter\")"
   ]
  },
  {
   "cell_type": "code",
   "execution_count": 31,
   "metadata": {},
   "outputs": [
    {
     "data": {
      "text/plain": [
       "<matplotlib.axes._subplots.AxesSubplot at 0x2973e7337c8>"
      ]
     },
     "execution_count": 31,
     "metadata": {},
     "output_type": "execute_result"
    },
    {
     "data": {
      "image/png": "[encoded data removed]",
      "text/plain": [
       "<Figure size 864x288 with 4 Axes>"
      ]
     },
     "metadata": {
      "needs_background": "light"
     },
     "output_type": "display_data"
    }
   ],
   "source": [
    "f, (ax1, ax2,ax3,ax4) = mpl.subplots(1,4, figsize=(12,4))\n",
    "muscle1_df.plot(x='Rescaled_time', y=\"Voltage\", ax=ax1, kind=\"scatter\")\n",
    "muscle2_df.plot(x='Rescaled_time', y=\"Voltage\", ax=ax2, kind=\"scatter\")\n",
    "muscle3_df.plot(x='Rescaled_time', y=\"Voltage\", ax=ax3, kind=\"scatter\")\n",
    "muscle4_df.plot(x='Rescaled_time', y=\"Voltage\", ax=ax4, kind=\"scatter\")\n"
   ]
  },
  {
   "cell_type": "code",
   "execution_count": 74,
   "metadata": {},
   "outputs": [
    {
     "data": {
      "text/html": [
       "<div>\n",
       "<style scoped>\n",
       "    .dataframe tbody tr th:only-of-type {\n",
       "        vertical-align: middle;\n",
       "    }\n",
       "\n",
       "    .dataframe tbody tr th {\n",
       "        vertical-align: top;\n",
       "    }\n",
       "\n",
       "    .dataframe thead th {\n",
       "        text-align: right;\n",
       "    }\n",
       "</style>\n",
       "<table border=\"1\" class=\"dataframe\">\n",
       "  <thead>\n",
       "    <tr style=\"text-align: right;\">\n",
       "      <th></th>\n",
       "      <th>Rest for 3 seconds...Rest for 2 seconds...Rest for 1 seconds...</th>\n",
       "      <th>Unnamed: 1</th>\n",
       "      <th>Unnamed: 2</th>\n",
       "      <th>Unnamed: 3</th>\n",
       "      <th>Unnamed: 4</th>\n",
       "      <th>Unnamed: 5</th>\n",
       "      <th>Unnamed: 6</th>\n",
       "    </tr>\n",
       "  </thead>\n",
       "  <tbody>\n",
       "    <tr>\n",
       "      <td>0</td>\n",
       "      <td>Start recording for holding movement of holdin...</td>\n",
       "      <td>Time(ms)</td>\n",
       "      <td>muscle_1</td>\n",
       "      <td>muscle_2</td>\n",
       "      <td>muscle_3</td>\n",
       "      <td>muscle_4</td>\n",
       "      <td>muscle_5</td>\n",
       "    </tr>\n",
       "    <tr>\n",
       "      <td>1</td>\n",
       "      <td>3001 miliseconds</td>\n",
       "      <td>3001</td>\n",
       "      <td>1.83</td>\n",
       "      <td>1.29</td>\n",
       "      <td>0.99</td>\n",
       "      <td>1.61</td>\n",
       "      <td>1.89</td>\n",
       "    </tr>\n",
       "    <tr>\n",
       "      <td>2</td>\n",
       "      <td>3013 miliseconds</td>\n",
       "      <td>3013</td>\n",
       "      <td>1.74</td>\n",
       "      <td>1.23</td>\n",
       "      <td>0.96</td>\n",
       "      <td>1.54</td>\n",
       "      <td>1.79</td>\n",
       "    </tr>\n",
       "    <tr>\n",
       "      <td>3</td>\n",
       "      <td>3026 miliseconds</td>\n",
       "      <td>3026</td>\n",
       "      <td>1.65</td>\n",
       "      <td>1.2</td>\n",
       "      <td>1.22</td>\n",
       "      <td>1.48</td>\n",
       "      <td>1.71</td>\n",
       "    </tr>\n",
       "    <tr>\n",
       "      <td>4</td>\n",
       "      <td>3039 miliseconds</td>\n",
       "      <td>3039</td>\n",
       "      <td>1.58</td>\n",
       "      <td>1.15</td>\n",
       "      <td>1.17</td>\n",
       "      <td>1.42</td>\n",
       "      <td>1.63</td>\n",
       "    </tr>\n",
       "    <tr>\n",
       "      <td>5</td>\n",
       "      <td>3051 miliseconds</td>\n",
       "      <td>3051</td>\n",
       "      <td>1.51</td>\n",
       "      <td>1.21</td>\n",
       "      <td>1.11</td>\n",
       "      <td>1.36</td>\n",
       "      <td>1.56</td>\n",
       "    </tr>\n",
       "    <tr>\n",
       "      <td>6</td>\n",
       "      <td>3064 miliseconds</td>\n",
       "      <td>3064</td>\n",
       "      <td>1.44</td>\n",
       "      <td>1.15</td>\n",
       "      <td>1.07</td>\n",
       "      <td>1.3</td>\n",
       "      <td>1.49</td>\n",
       "    </tr>\n",
       "    <tr>\n",
       "      <td>7</td>\n",
       "      <td>3077 miliseconds</td>\n",
       "      <td>3077</td>\n",
       "      <td>1.38</td>\n",
       "      <td>1.1</td>\n",
       "      <td>1.03</td>\n",
       "      <td>1.26</td>\n",
       "      <td>1.43</td>\n",
       "    </tr>\n",
       "    <tr>\n",
       "      <td>8</td>\n",
       "      <td>3090 miliseconds</td>\n",
       "      <td>3090</td>\n",
       "      <td>1.33</td>\n",
       "      <td>1.28</td>\n",
       "      <td>1.21</td>\n",
       "      <td>1.21</td>\n",
       "      <td>1.37</td>\n",
       "    </tr>\n",
       "    <tr>\n",
       "      <td>9</td>\n",
       "      <td>3102 miliseconds</td>\n",
       "      <td>3102</td>\n",
       "      <td>1.27</td>\n",
       "      <td>1.22</td>\n",
       "      <td>1.15</td>\n",
       "      <td>1.16</td>\n",
       "      <td>1.31</td>\n",
       "    </tr>\n",
       "  </tbody>\n",
       "</table>\n",
       "</div>"
      ],
      "text/plain": [
       "  Rest for 3 seconds...Rest for 2 seconds...Rest for 1 seconds... Unnamed: 1  \\\n",
       "0  Start recording for holding movement of holdin...                Time(ms)   \n",
       "1                                   3001 miliseconds                    3001   \n",
       "2                                   3013 miliseconds                    3013   \n",
       "3                                   3026 miliseconds                    3026   \n",
       "4                                   3039 miliseconds                    3039   \n",
       "5                                   3051 miliseconds                    3051   \n",
       "6                                   3064 miliseconds                    3064   \n",
       "7                                   3077 miliseconds                    3077   \n",
       "8                                   3090 miliseconds                    3090   \n",
       "9                                   3102 miliseconds                    3102   \n",
       "\n",
       "  Unnamed: 2 Unnamed: 3 Unnamed: 4 Unnamed: 5 Unnamed: 6  \n",
       "0   muscle_1   muscle_2   muscle_3   muscle_4   muscle_5  \n",
       "1       1.83       1.29       0.99       1.61       1.89  \n",
       "2       1.74       1.23       0.96       1.54       1.79  \n",
       "3       1.65        1.2       1.22       1.48       1.71  \n",
       "4       1.58       1.15       1.17       1.42       1.63  \n",
       "5       1.51       1.21       1.11       1.36       1.56  \n",
       "6       1.44       1.15       1.07        1.3       1.49  \n",
       "7       1.38        1.1       1.03       1.26       1.43  \n",
       "8       1.33       1.28       1.21       1.21       1.37  \n",
       "9       1.27       1.22       1.15       1.16       1.31  "
      ]
     },
     "execution_count": 74,
     "metadata": {},
     "output_type": "execute_result"
    }
   ],
   "source": [
    "cup_df = pd.read_excel(r\"C:\\Users\\Thang Le\\Documents\\github\\smart_pros\\hand_jupyter_notebook\\hold_a_cup.xlsx\", sheet_name=\"force2\")\n",
    "cup_df.head(10)\n"
   ]
  },
  {
   "cell_type": "code",
   "execution_count": 82,
   "metadata": {},
   "outputs": [],
   "source": [
    "cup_df.columns = ['raw_time', 'time', 'muscle_1', 'muscle_2', 'muscle_3', 'muscle_4', 'muscle_5']\n",
    "cup_df = cup_df.drop('raw_time',1)\n",
    "cup_df = cup_df.drop(0)"
   ]
  },
  {
   "cell_type": "code",
   "execution_count": 83,
   "metadata": {},
   "outputs": [
    {
     "data": {
      "text/html": [
       "<div>\n",
       "<style scoped>\n",
       "    .dataframe tbody tr th:only-of-type {\n",
       "        vertical-align: middle;\n",
       "    }\n",
       "\n",
       "    .dataframe tbody tr th {\n",
       "        vertical-align: top;\n",
       "    }\n",
       "\n",
       "    .dataframe thead th {\n",
       "        text-align: right;\n",
       "    }\n",
       "</style>\n",
       "<table border=\"1\" class=\"dataframe\">\n",
       "  <thead>\n",
       "    <tr style=\"text-align: right;\">\n",
       "      <th></th>\n",
       "      <th>time</th>\n",
       "      <th>muscle_1</th>\n",
       "      <th>muscle_2</th>\n",
       "      <th>muscle_3</th>\n",
       "      <th>muscle_4</th>\n",
       "      <th>muscle_5</th>\n",
       "    </tr>\n",
       "  </thead>\n",
       "  <tbody>\n",
       "    <tr>\n",
       "      <td>1</td>\n",
       "      <td>3001</td>\n",
       "      <td>1.83</td>\n",
       "      <td>1.29</td>\n",
       "      <td>0.99</td>\n",
       "      <td>1.61</td>\n",
       "      <td>1.89</td>\n",
       "    </tr>\n",
       "    <tr>\n",
       "      <td>2</td>\n",
       "      <td>3013</td>\n",
       "      <td>1.74</td>\n",
       "      <td>1.23</td>\n",
       "      <td>0.96</td>\n",
       "      <td>1.54</td>\n",
       "      <td>1.79</td>\n",
       "    </tr>\n",
       "    <tr>\n",
       "      <td>3</td>\n",
       "      <td>3026</td>\n",
       "      <td>1.65</td>\n",
       "      <td>1.2</td>\n",
       "      <td>1.22</td>\n",
       "      <td>1.48</td>\n",
       "      <td>1.71</td>\n",
       "    </tr>\n",
       "    <tr>\n",
       "      <td>4</td>\n",
       "      <td>3039</td>\n",
       "      <td>1.58</td>\n",
       "      <td>1.15</td>\n",
       "      <td>1.17</td>\n",
       "      <td>1.42</td>\n",
       "      <td>1.63</td>\n",
       "    </tr>\n",
       "    <tr>\n",
       "      <td>5</td>\n",
       "      <td>3051</td>\n",
       "      <td>1.51</td>\n",
       "      <td>1.21</td>\n",
       "      <td>1.11</td>\n",
       "      <td>1.36</td>\n",
       "      <td>1.56</td>\n",
       "    </tr>\n",
       "    <tr>\n",
       "      <td>...</td>\n",
       "      <td>...</td>\n",
       "      <td>...</td>\n",
       "      <td>...</td>\n",
       "      <td>...</td>\n",
       "      <td>...</td>\n",
       "      <td>...</td>\n",
       "    </tr>\n",
       "    <tr>\n",
       "      <td>549</td>\n",
       "      <td>9961</td>\n",
       "      <td>0.5</td>\n",
       "      <td>0.64</td>\n",
       "      <td>0.78</td>\n",
       "      <td>0.56</td>\n",
       "      <td>0.67</td>\n",
       "    </tr>\n",
       "    <tr>\n",
       "      <td>550</td>\n",
       "      <td>9973</td>\n",
       "      <td>0.49</td>\n",
       "      <td>0.62</td>\n",
       "      <td>0.76</td>\n",
       "      <td>0.55</td>\n",
       "      <td>0.65</td>\n",
       "    </tr>\n",
       "    <tr>\n",
       "      <td>551</td>\n",
       "      <td>9987</td>\n",
       "      <td>0.47</td>\n",
       "      <td>0.59</td>\n",
       "      <td>0.73</td>\n",
       "      <td>0.53</td>\n",
       "      <td>0.63</td>\n",
       "    </tr>\n",
       "    <tr>\n",
       "      <td>552</td>\n",
       "      <td>9999</td>\n",
       "      <td>0.46</td>\n",
       "      <td>0.58</td>\n",
       "      <td>0.71</td>\n",
       "      <td>0.51</td>\n",
       "      <td>0.63</td>\n",
       "    </tr>\n",
       "    <tr>\n",
       "      <td>553</td>\n",
       "      <td>10011</td>\n",
       "      <td>0.9</td>\n",
       "      <td>0.56</td>\n",
       "      <td>0.68</td>\n",
       "      <td>0.49</td>\n",
       "      <td>0.74</td>\n",
       "    </tr>\n",
       "  </tbody>\n",
       "</table>\n",
       "<p>553 rows × 6 columns</p>\n",
       "</div>"
      ],
      "text/plain": [
       "      time muscle_1 muscle_2 muscle_3 muscle_4 muscle_5\n",
       "1     3001     1.83     1.29     0.99     1.61     1.89\n",
       "2     3013     1.74     1.23     0.96     1.54     1.79\n",
       "3     3026     1.65      1.2     1.22     1.48     1.71\n",
       "4     3039     1.58     1.15     1.17     1.42     1.63\n",
       "5     3051     1.51     1.21     1.11     1.36     1.56\n",
       "..     ...      ...      ...      ...      ...      ...\n",
       "549   9961      0.5     0.64     0.78     0.56     0.67\n",
       "550   9973     0.49     0.62     0.76     0.55     0.65\n",
       "551   9987     0.47     0.59     0.73     0.53     0.63\n",
       "552   9999     0.46     0.58     0.71     0.51     0.63\n",
       "553  10011      0.9     0.56     0.68     0.49     0.74\n",
       "\n",
       "[553 rows x 6 columns]"
      ]
     },
     "execution_count": 83,
     "metadata": {},
     "output_type": "execute_result"
    }
   ],
   "source": [
    "cup_df"
   ]
  },
  {
   "cell_type": "code",
   "execution_count": 84,
   "metadata": {},
   "outputs": [
    {
     "data": {
      "image/png": "[encoded data removed]",
      "text/plain": [
       "<Figure size 1440x360 with 1 Axes>"
      ]
     },
     "metadata": {
      "needs_background": "light"
     },
     "output_type": "display_data"
    }
   ],
   "source": [
    "f, (ax1) = mpl.subplots(1,1, figsize=(20,5))\n",
    "ax1.scatter(x=cup_df['time'], y=cup_df['muscle_1'])\n",
    "'''\n",
    "ax2.scatter(x=cup_df['time'], y=cup_df['muscle_2'])\n",
    "ax3.scatter(x=cup_df['time'], y=cup_df['muscle_3'])\n",
    "ax4.scatter(x=cup_df['time'], y=cup_df['muscle_4'])\n",
    "ax5.scatter(x=cup_df['time'], y=cup_df['muscle_5'])\n",
    "'''\n",
    "mpl.show()"
   ]
  },
  {
   "cell_type": "code",
   "execution_count": null,
   "metadata": {},
   "outputs": [],
   "source": []
  }
 ],
 "metadata": {
  "kernelspec": {
   "display_name": "Python 3",
   "language": "python",
   "name": "python3"
  },
  "language_info": {
   "codemirror_mode": {
    "name": "ipython",
    "version": 3
   },
   "file_extension": ".py",
   "mimetype": "text/x-python",
   "name": "python",
   "nbconvert_exporter": "python",
   "pygments_lexer": "ipython3",
   "version": "3.7.4"
  }
 },
 "nbformat": 4,
 "nbformat_minor": 2
}
